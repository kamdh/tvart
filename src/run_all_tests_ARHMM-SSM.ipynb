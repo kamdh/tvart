{
 "cells": [
  {
   "cell_type": "code",
   "execution_count": 25,
   "metadata": {},
   "outputs": [],
   "source": [
    "import numpy as np\n",
    "import scipy.io\n",
    "import matplotlib.pyplot as plt\n",
    "import pandas as pd\n",
    "from ssm_compare import fit_arhmm_and_return_errors"
   ]
  },
  {
   "cell_type": "code",
   "execution_count": 26,
   "metadata": {},
   "outputs": [],
   "source": [
    "#N_array = np.array([10,14,18,20,30,50,80,100,200,400,1000,2000,4000])\n",
    "N_array = np.array([10,14,18,20,30,50,80,100,200, 400, 1000])\n",
    "# N_array = np.array([10,100,1000])\n",
    "#N_array = np.array([10,14,18,20,30,50,80,100,200])\n",
    "Kmax = 4\n",
    "num_iters = 1000\n",
    "num_restarts = 3\n",
    "model = 'ARHMM'\n",
    "rank = None\n",
    "\n",
    "#table_file = \"../data/comparison_output_rank4.csv\"\n",
    "#output_file = \"../data/comparison_final_rank4.csv\"\n",
    "#output_file = \"../data/comparison_output_slds_multiple_300_30_grow.csv\"\n",
    "# output_file = \"../data/comparison_output_2000_arhmm.csv\"\n",
    "output_file = \"../data/comparison_output_200_arhmm.csv\""
   ]
  },
  {
   "cell_type": "code",
   "execution_count": 27,
   "metadata": {},
   "outputs": [
    {
     "name": "stdout",
     "output_type": "stream",
     "text": [
      "Empty DataFrame\n",
      "Columns: [N, window, model, err_inf, err_2, err_fro, model_MSE, true_MSE]\n",
      "Index: []\n",
      "Index(['N', 'window', 'model', 'err_inf', 'err_2', 'err_fro', 'model_MSE',\n",
      "       'true_MSE'],\n",
      "      dtype='object')\n",
      "[]\n"
     ]
    }
   ],
   "source": [
    "# error_table = pd.read_csv(table_file)\n",
    "\n",
    "error_table = pd.DataFrame(columns = ['N', 'window', 'model', 'err_inf', 'err_2', 'err_fro', 'model_MSE', \\\n",
    "                  'true_MSE'])\n",
    "\n",
    "print(error_table.head())\n",
    "print(error_table.columns)\n",
    "print(error_table['model'].unique())"
   ]
  },
  {
   "cell_type": "markdown",
   "metadata": {},
   "source": [
    "## Fit SLDS with rank r = 4 & r = 6"
   ]
  },
  {
   "cell_type": "code",
   "execution_count": null,
   "metadata": {
    "scrolled": true
   },
   "outputs": [
    {
     "name": "stdout",
     "output_type": "stream",
     "text": [
      "-----------------------------\n",
      "N=10, STEPS: 1000 \n",
      "restart  1  /  3\n"
     ]
    },
    {
     "data": {
      "application/vnd.jupyter.widget-view+json": {
       "model_id": "d596704390804c9187d75853c416ece3",
       "version_major": 2,
       "version_minor": 0
      },
      "text/plain": [
       "HBox(children=(HTML(value=''), FloatProgress(value=0.0, max=1000.0), HTML(value='')))"
      ]
     },
     "metadata": {},
     "output_type": "display_data"
    },
    {
     "name": "stdout",
     "output_type": "stream",
     "text": [
      "\n",
      "restart  2  /  3\n"
     ]
    },
    {
     "data": {
      "application/vnd.jupyter.widget-view+json": {
       "model_id": "5bd44f7d464e41d3bb4a861b8a842b6d",
       "version_major": 2,
       "version_minor": 0
      },
      "text/plain": [
       "HBox(children=(HTML(value=''), FloatProgress(value=0.0, max=1000.0), HTML(value='')))"
      ]
     },
     "metadata": {},
     "output_type": "display_data"
    },
    {
     "name": "stdout",
     "output_type": "stream",
     "text": [
      "\n",
      "restart  3  /  3\n"
     ]
    },
    {
     "data": {
      "application/vnd.jupyter.widget-view+json": {
       "model_id": "9ccc44350c044023a95defaf757d0f47",
       "version_major": 2,
       "version_minor": 0
      },
      "text/plain": [
       "HBox(children=(HTML(value=''), FloatProgress(value=0.0, max=1000.0), HTML(value='')))"
      ]
     },
     "metadata": {},
     "output_type": "display_data"
    },
    {
     "name": "stdout",
     "output_type": "stream",
     "text": [
      "\n",
      "predicted states:\n",
      "[3 3 3 1 0 3 1 1 0 1 3 3 1 3 3 1 0 1 1 1 1 2 1 2 2 3 2 0 0 1 0 1 0 3 1 1 1\n",
      " 1 0 1 1 1 0 3 2 3 1 1 3 1 0 2 0 3 3 1 1 1 2 3 2 2 0 3 3 1 0 2 2 1 1 1 1 0\n",
      " 1 1 1 2 2 1 3 1 1 0 2 2 2 2 2 2 0 0 1 3 0 1 1 2 0 2 1 1 1 3 0 0 1 0 2 2 1\n",
      " 1 1 1 1 1 1 1 0 3 2 2 2 2 2 1 1 2 2 1 1 0 1 0 2 0 3 3 1 1 1 2 2 1 1 1 1 0\n",
      " 1 3 3 3 1 1 1 2 1 1 1 1 1 1 1 3 0 3 1 0 1 1 1 0 1 1 2 1 1 3 3 3 3 3 3 1 1\n",
      " 1 1 1 2 1 2 0 2 2 1 1 2 1 1 0 0]\n",
      "N = 10 : err_inf = 0.809909, err_2 = 1.942150, err_fro = 2.629339, err_mse = 0.025584\n",
      "restart  1  /  3\n"
     ]
    },
    {
     "data": {
      "application/vnd.jupyter.widget-view+json": {
       "model_id": "4eaeba53d412402ba59625f9cd5f3169",
       "version_major": 2,
       "version_minor": 0
      },
      "text/plain": [
       "HBox(children=(HTML(value=''), FloatProgress(value=0.0, max=1000.0), HTML(value='')))"
      ]
     },
     "metadata": {},
     "output_type": "display_data"
    },
    {
     "name": "stdout",
     "output_type": "stream",
     "text": [
      "\n",
      "restart  2  /  3\n"
     ]
    },
    {
     "data": {
      "application/vnd.jupyter.widget-view+json": {
       "model_id": "b5c406763f0b4f0cb8eed4a449946bd3",
       "version_major": 2,
       "version_minor": 0
      },
      "text/plain": [
       "HBox(children=(HTML(value=''), FloatProgress(value=0.0, max=1000.0), HTML(value='')))"
      ]
     },
     "metadata": {},
     "output_type": "display_data"
    },
    {
     "name": "stdout",
     "output_type": "stream",
     "text": [
      "\n",
      "restart  3  /  3\n"
     ]
    },
    {
     "data": {
      "application/vnd.jupyter.widget-view+json": {
       "model_id": "01e92c3e14b64f3d850b2a25f37aa3cc",
       "version_major": 2,
       "version_minor": 0
      },
      "text/plain": [
       "HBox(children=(HTML(value=''), FloatProgress(value=0.0, max=1000.0), HTML(value='')))"
      ]
     },
     "metadata": {},
     "output_type": "display_data"
    },
    {
     "name": "stdout",
     "output_type": "stream",
     "text": [
      "\n",
      "predicted states:\n",
      "[2 2 2 2 2 2 2 3 0 0 2 2 0 0 0 2 2 1 0 2 2 2 2 0 0 0 0 1 1 1 1 1 3 3 3 2 2\n",
      " 2 2 3 2 2 0 0 0 1 0 2 3 3 3 3 0 2 2 0 2 2 3 3 0 0 2 2 2 3 3 3 3 2 2 2 2 2\n",
      " 2 3 3 3 3 1 1 1 0 1 1 2 2 2 2 2 2 1 1 3 3 2 2 2 2 3 3 3 1 0 0 0 0 0 1 0 1\n",
      " 1 1 1 1 2 2 2 1 2 2 2 2 2 2 1 1 0 0 3 3 1 1 3 0 2 2 2 0 3 3 3 3 1 0 1 3 3\n",
      " 2 3 3 2 0 1 2 0 1 0 0 0 3 2 2 2 2 2 2 2 2 2 2 2 2 2 0 1 2 2 2 2 0 2 1 2 2\n",
      " 2 2 3 3 0 1 2 1 2 3 2 0 0 3 3 3]\n",
      "N = 10 : err_inf = 0.778965, err_2 = 1.938223, err_fro = 2.813311, err_mse = 0.025525\n",
      "restart  1  /  3\n"
     ]
    },
    {
     "data": {
      "application/vnd.jupyter.widget-view+json": {
       "model_id": "944e3155b1884ac4bce3399461d28afb",
       "version_major": 2,
       "version_minor": 0
      },
      "text/plain": [
       "HBox(children=(HTML(value=''), FloatProgress(value=0.0, max=1000.0), HTML(value='')))"
      ]
     },
     "metadata": {},
     "output_type": "display_data"
    },
    {
     "name": "stdout",
     "output_type": "stream",
     "text": [
      "\n",
      "restart  2  /  3\n"
     ]
    },
    {
     "data": {
      "application/vnd.jupyter.widget-view+json": {
       "model_id": "451262a99794436784f364866ebcc25e",
       "version_major": 2,
       "version_minor": 0
      },
      "text/plain": [
       "HBox(children=(HTML(value=''), FloatProgress(value=0.0, max=1000.0), HTML(value='')))"
      ]
     },
     "metadata": {},
     "output_type": "display_data"
    },
    {
     "name": "stdout",
     "output_type": "stream",
     "text": [
      "\n",
      "restart  3  /  3\n"
     ]
    },
    {
     "data": {
      "application/vnd.jupyter.widget-view+json": {
       "model_id": "e1f88c1e8ad945e6914aeacc237764f4",
       "version_major": 2,
       "version_minor": 0
      },
      "text/plain": [
       "HBox(children=(HTML(value=''), FloatProgress(value=0.0, max=1000.0), HTML(value='')))"
      ]
     },
     "metadata": {},
     "output_type": "display_data"
    },
    {
     "name": "stdout",
     "output_type": "stream",
     "text": [
      "\n",
      "predicted states:\n",
      "[1 1 0 0 0 0 0 2 3 3 3 2 2 0 1 1 1 1 0 0 3 2 0 0 0 0 0 1 0 3 2 1 1 2 0 2 2\n",
      " 1 1 1 0 3 2 2 0 0 2 1 0 3 3 2 0 3 0 2 2 2 1 0 0 1 1 1 1 2 2 1 1 1 0 1 0 0\n",
      " 0 0 0 0 3 3 1 1 0 3 2 2 2 1 1 1 3 3 2 2 2 1 0 0 3 3 2 3 3 2 1 0 1 0 0 0 0\n",
      " 2 2 0 0 0 0 3 2 0 3 2 3 0 1 1 1 2 0 0 0 0 0 0 0 3 0 0 3 1 2 3 2 2 0 2 1 1\n",
      " 1 0 3 2 0 0 0 2 2 0 1 1 2 1 1 1 1 0 0 3 1 0 3 1 1 1 1 3 2 2 2 2 3 3 3 2 2\n",
      " 0 0 0 0 0 0 0 3 2 0 0 0 0 2 3 0]\n",
      "N = 10 : err_inf = 0.755064, err_2 = 1.815993, err_fro = 2.571793, err_mse = 0.026484\n",
      "-----------------------------\n",
      "N=14, STEPS: 1000 \n",
      "restart  1  /  3\n"
     ]
    },
    {
     "data": {
      "application/vnd.jupyter.widget-view+json": {
       "model_id": "67fa0fcd43d14a288fb0e953f4a21f45",
       "version_major": 2,
       "version_minor": 0
      },
      "text/plain": [
       "HBox(children=(HTML(value=''), FloatProgress(value=0.0, max=1000.0), HTML(value='')))"
      ]
     },
     "metadata": {},
     "output_type": "display_data"
    },
    {
     "name": "stdout",
     "output_type": "stream",
     "text": [
      "\n",
      "restart  2  /  3\n"
     ]
    },
    {
     "data": {
      "application/vnd.jupyter.widget-view+json": {
       "model_id": "46e84d74afab454cb31ce45f02eef958",
       "version_major": 2,
       "version_minor": 0
      },
      "text/plain": [
       "HBox(children=(HTML(value=''), FloatProgress(value=0.0, max=1000.0), HTML(value='')))"
      ]
     },
     "metadata": {},
     "output_type": "display_data"
    },
    {
     "name": "stdout",
     "output_type": "stream",
     "text": [
      "\n",
      "restart  3  /  3\n"
     ]
    },
    {
     "data": {
      "application/vnd.jupyter.widget-view+json": {
       "model_id": "39cc91b2618149d59a68cfad78db1653",
       "version_major": 2,
       "version_minor": 0
      },
      "text/plain": [
       "HBox(children=(HTML(value=''), FloatProgress(value=0.0, max=1000.0), HTML(value='')))"
      ]
     },
     "metadata": {},
     "output_type": "display_data"
    },
    {
     "name": "stdout",
     "output_type": "stream",
     "text": [
      "\n",
      "predicted states:\n",
      "[0 0 0 1 3 3 1 1 2 0 1 1 2 1 2 3 0 1 3 3 0 2 1 3 3 2 3 0 0 3 1 0 0 0 0 2 1\n",
      " 3 0 0 1 0 0 0 1 3 2 0 1 2 0 2 0 2 2 3 3 3 3 0 3 1 0 0 0 3 1 0 1 1 1 0 1 3\n",
      " 2 1 0 3 3 1 2 2 1 1 1 0 0 0 3 3 1 0 0 1 3 0 2 1 0 1 0 0 0 2 0 0 0 2 2 0 0\n",
      " 0 0 2 2 3 0 0 3 2 2 0 3 1 2 3 3 3 3 3 3 0 1 1 0 0 0 2 3 0 0 1 0 3 0 1 0 0\n",
      " 3 2 0 0 3 2 0 2 3 2 2 2 3 3 0 0 3 2 3 0 1 0 2 1 1 0 1 0 0 2 3 1 1 1 0 0 3\n",
      " 0 3 3 3 2 3 2 2 3 1 1 3 2 0 0 0]\n",
      "N = 14 : err_inf = 0.699468, err_2 = 1.923152, err_fro = 2.995038, err_mse = 0.030382\n",
      "restart  1  /  3\n"
     ]
    },
    {
     "data": {
      "application/vnd.jupyter.widget-view+json": {
       "model_id": "e4953c6b4210427dbc193910d9d70c56",
       "version_major": 2,
       "version_minor": 0
      },
      "text/plain": [
       "HBox(children=(HTML(value=''), FloatProgress(value=0.0, max=1000.0), HTML(value='')))"
      ]
     },
     "metadata": {},
     "output_type": "display_data"
    },
    {
     "name": "stdout",
     "output_type": "stream",
     "text": [
      "\n",
      "restart  2  /  3\n"
     ]
    },
    {
     "data": {
      "application/vnd.jupyter.widget-view+json": {
       "model_id": "992149c83855418a893ad6c8eac68bdd",
       "version_major": 2,
       "version_minor": 0
      },
      "text/plain": [
       "HBox(children=(HTML(value=''), FloatProgress(value=0.0, max=1000.0), HTML(value='')))"
      ]
     },
     "metadata": {},
     "output_type": "display_data"
    },
    {
     "name": "stdout",
     "output_type": "stream",
     "text": [
      "\n",
      "restart  3  /  3\n"
     ]
    },
    {
     "data": {
      "application/vnd.jupyter.widget-view+json": {
       "model_id": "61a5bb65152144db8e0d3642a66361d4",
       "version_major": 2,
       "version_minor": 0
      },
      "text/plain": [
       "HBox(children=(HTML(value=''), FloatProgress(value=0.0, max=1000.0), HTML(value='')))"
      ]
     },
     "metadata": {},
     "output_type": "display_data"
    },
    {
     "name": "stdout",
     "output_type": "stream",
     "text": [
      "\n",
      "predicted states:\n",
      "[3 3 1 2 0 0 1 0 0 2 1 1 1 0 1 1 1 3 1 2 3 2 3 3 2 1 1 1 1 2 3 1 0 0 3 1 0\n",
      " 0 0 0 2 3 0 0 3 3 1 1 2 3 3 0 1 3 0 3 2 2 2 2 3 1 2 2 2 3 1 1 3 0 1 0 3 3\n",
      " 3 3 3 1 0 2 0 1 0 1 0 0 2 3 1 1 2 1 0 0 1 2 1 2 1 1 0 1 0 3 1 1 3 3 1 1 2\n",
      " 0 2 0 1 0 0 0 0 0 0 0 0 0 1 1 3 1 2 2 0 1 0 0 1 1 3 3 0 1 2 0 1 3 0 2 2 1\n",
      " 0 1 0 0 2 2 0 0 1 1 0 0 1 3 3 1 0 3 0 3 3 1 2 1 2 2 1 1 3 2 1 3 2 1 1 3 3\n",
      " 3 1 3 1 1 1 2 1 1 1 1 1 2 2 2 2]\n",
      "N = 14 : err_inf = 0.758821, err_2 = 2.097091, err_fro = 3.300425, err_mse = 0.033146\n",
      "restart  1  /  3\n"
     ]
    },
    {
     "data": {
      "application/vnd.jupyter.widget-view+json": {
       "model_id": "16f281b39ce649b0ab2bbf10ffa5e17b",
       "version_major": 2,
       "version_minor": 0
      },
      "text/plain": [
       "HBox(children=(HTML(value=''), FloatProgress(value=0.0, max=1000.0), HTML(value='')))"
      ]
     },
     "metadata": {},
     "output_type": "display_data"
    },
    {
     "name": "stdout",
     "output_type": "stream",
     "text": [
      "\n",
      "restart  2  /  3\n"
     ]
    },
    {
     "data": {
      "application/vnd.jupyter.widget-view+json": {
       "model_id": "e28c2bb3205640ea8df5ccb9d1798311",
       "version_major": 2,
       "version_minor": 0
      },
      "text/plain": [
       "HBox(children=(HTML(value=''), FloatProgress(value=0.0, max=1000.0), HTML(value='')))"
      ]
     },
     "metadata": {},
     "output_type": "display_data"
    },
    {
     "name": "stdout",
     "output_type": "stream",
     "text": [
      "\n",
      "restart  3  /  3\n"
     ]
    },
    {
     "data": {
      "application/vnd.jupyter.widget-view+json": {
       "model_id": "a3fc7976462e44d2b54fb24433a17d40",
       "version_major": 2,
       "version_minor": 0
      },
      "text/plain": [
       "HBox(children=(HTML(value=''), FloatProgress(value=0.0, max=1000.0), HTML(value='')))"
      ]
     },
     "metadata": {},
     "output_type": "display_data"
    },
    {
     "name": "stdout",
     "output_type": "stream",
     "text": [
      "\n",
      "predicted states:\n",
      "[2 1 0 0 1 3 2 2 0 3 3 1 2 2 1 3 1 3 1 1 1 1 1 1 0 2 0 2 2 1 3 3 0 2 1 3 2\n",
      " 0 2 2 0 0 0 1 2 2 2 3 0 2 2 3 3 3 2 2 1 3 1 3 3 3 0 1 0 2 1 0 0 0 3 3 0 1\n",
      " 0 2 2 1 2 3 2 3 2 3 3 3 2 0 2 1 0 2 3 1 3 0 3 3 3 3 0 0 2 2 1 2 2 3 3 0 0\n",
      " 0 0 0 3 3 2 0 3 3 0 0 3 1 3 3 2 3 3 3 2 2 1 0 2 1 3 1 1 2 3 0 0 0 1 1 3 3\n",
      " 3 1 0 0 3 1 0 2 1 2 3 3 1 2 0 1 0 1 0 0 0 2 3 3 3 1 3 3 3 3 3 3 1 3 2 3 0\n",
      " 0 0 1 3 3 2 0 3 1 3 3 0 1 1 2 3]\n",
      "N = 14 : err_inf = 0.777233, err_2 = 2.076351, err_fro = 3.297718, err_mse = 0.034824\n",
      "-----------------------------\n",
      "N=18, STEPS: 1000 \n",
      "restart  1  /  3\n"
     ]
    },
    {
     "data": {
      "application/vnd.jupyter.widget-view+json": {
       "model_id": "138534be6da64a9b8cb15cc12dd0fe9c",
       "version_major": 2,
       "version_minor": 0
      },
      "text/plain": [
       "HBox(children=(HTML(value=''), FloatProgress(value=0.0, max=1000.0), HTML(value='')))"
      ]
     },
     "metadata": {},
     "output_type": "display_data"
    },
    {
     "name": "stdout",
     "output_type": "stream",
     "text": [
      "\n",
      "restart  2  /  3\n"
     ]
    },
    {
     "data": {
      "application/vnd.jupyter.widget-view+json": {
       "model_id": "0416c93527ba45f783f5bccc9d432ea1",
       "version_major": 2,
       "version_minor": 0
      },
      "text/plain": [
       "HBox(children=(HTML(value=''), FloatProgress(value=0.0, max=1000.0), HTML(value='')))"
      ]
     },
     "metadata": {},
     "output_type": "display_data"
    },
    {
     "name": "stdout",
     "output_type": "stream",
     "text": [
      "\n",
      "restart  3  /  3\n"
     ]
    },
    {
     "data": {
      "application/vnd.jupyter.widget-view+json": {
       "model_id": "334ea5587bd54299bb1f17fee6b34861",
       "version_major": 2,
       "version_minor": 0
      },
      "text/plain": [
       "HBox(children=(HTML(value=''), FloatProgress(value=0.0, max=1000.0), HTML(value='')))"
      ]
     },
     "metadata": {},
     "output_type": "display_data"
    },
    {
     "name": "stdout",
     "output_type": "stream",
     "text": [
      "\n",
      "predicted states:\n",
      "[1 0 3 2 1 3 3 3 0 3 3 0 0 2 0 0 1 0 1 1 1 1 3 3 3 1 0 3 2 1 3 2 1 0 1 1 0\n",
      " 3 3 2 0 1 2 2 1 2 1 3 1 0 0 1 1 3 1 1 3 3 2 0 1 3 2 0 2 3 1 3 3 3 3 2 1 0\n",
      " 3 2 1 3 0 2 1 3 2 3 0 2 1 1 2 0 0 3 2 2 0 0 1 0 2 2 2 3 0 1 2 2 2 2 1 0 2\n",
      " 2 1 2 2 3 2 1 0 1 3 1 1 3 2 2 2 2 3 2 3 0 2 3 0 0 1 2 1 3 0 3 3 0 0 1 1 0\n",
      " 3 1 2 2 0 2 2 0 3 1 3 1 2 2 3 0 2 2 2 1 3 3 3 0 1 0 2 0 1 0 0 2 2 3 1 1 0\n",
      " 3 2 0 3 2 0 0 1 1 0 0 0 0 1 3 3]\n",
      "N = 18 : err_inf = 0.803452, err_2 = 2.415605, err_fro = 4.047948, err_mse = 0.045745\n",
      "restart  1  /  3\n"
     ]
    },
    {
     "data": {
      "application/vnd.jupyter.widget-view+json": {
       "model_id": "da0be8e12a524dac83401712c9deed7e",
       "version_major": 2,
       "version_minor": 0
      },
      "text/plain": [
       "HBox(children=(HTML(value=''), FloatProgress(value=0.0, max=1000.0), HTML(value='')))"
      ]
     },
     "metadata": {},
     "output_type": "display_data"
    },
    {
     "name": "stdout",
     "output_type": "stream",
     "text": [
      "\n",
      "restart  2  /  3\n"
     ]
    },
    {
     "data": {
      "application/vnd.jupyter.widget-view+json": {
       "model_id": "d94c496fe4ba4339b384966c35caf4c3",
       "version_major": 2,
       "version_minor": 0
      },
      "text/plain": [
       "HBox(children=(HTML(value=''), FloatProgress(value=0.0, max=1000.0), HTML(value='')))"
      ]
     },
     "metadata": {},
     "output_type": "display_data"
    },
    {
     "name": "stdout",
     "output_type": "stream",
     "text": [
      "\n",
      "restart  3  /  3\n"
     ]
    },
    {
     "data": {
      "application/vnd.jupyter.widget-view+json": {
       "model_id": "887ee7159a9842068841440788adb4f8",
       "version_major": 2,
       "version_minor": 0
      },
      "text/plain": [
       "HBox(children=(HTML(value=''), FloatProgress(value=0.0, max=1000.0), HTML(value='')))"
      ]
     },
     "metadata": {},
     "output_type": "display_data"
    },
    {
     "name": "stdout",
     "output_type": "stream",
     "text": [
      "\n",
      "predicted states:\n",
      "[0 1 1 1 0 1 2 3 2 3 1 1 2 0 3 0 1 2 0 1 2 3 1 0 2 1 1 2 1 2 3 0 1 3 2 3 0\n",
      " 1 3 0 1 3 0 2 1 3 3 2 1 3 1 2 0 1 1 0 3 0 3 3 2 3 2 2 3 3 2 1 3 0 0 1 1 0\n",
      " 3 3 2 0 0 1 1 0 1 0 0 1 3 1 2 2 1 0 2 2 0 0 0 0 2 1 0 1 0 1 0 1 0 0 1 3 3\n",
      " 0 1 2 1 1 0 2 0 1 1 1 2 3 1 3 2 2 0 3 0 0 2 3 0 3 0 1 0 1 1 0 0 2 0 3 2 3\n",
      " 2 2 0 1 1 2 0 2 0 1 3 0 1 0 2 1 0 2 1 1 2 1 1 2 3 0 2 2 1 0 2 1 3 1 1 1 2\n",
      " 2 3 0 3 1 3 0 2 0 1 3 1 0 3 2 1]\n",
      "N = 18 : err_inf = 0.799911, err_2 = 2.458965, err_fro = 4.075791, err_mse = 0.047006\n",
      "restart  1  /  3\n"
     ]
    },
    {
     "data": {
      "application/vnd.jupyter.widget-view+json": {
       "model_id": "59b1aeab0b0946b2a02236a8c0ed967a",
       "version_major": 2,
       "version_minor": 0
      },
      "text/plain": [
       "HBox(children=(HTML(value=''), FloatProgress(value=0.0, max=1000.0), HTML(value='')))"
      ]
     },
     "metadata": {},
     "output_type": "display_data"
    },
    {
     "name": "stdout",
     "output_type": "stream",
     "text": [
      "\n",
      "restart  2  /  3\n"
     ]
    },
    {
     "data": {
      "application/vnd.jupyter.widget-view+json": {
       "model_id": "d65df1e4401d4e6f9415334b0dfc993c",
       "version_major": 2,
       "version_minor": 0
      },
      "text/plain": [
       "HBox(children=(HTML(value=''), FloatProgress(value=0.0, max=1000.0), HTML(value='')))"
      ]
     },
     "metadata": {},
     "output_type": "display_data"
    },
    {
     "name": "stdout",
     "output_type": "stream",
     "text": [
      "\n",
      "restart  3  /  3\n"
     ]
    },
    {
     "data": {
      "application/vnd.jupyter.widget-view+json": {
       "model_id": "b7f12045abbb45489edc6c4708ba28cb",
       "version_major": 2,
       "version_minor": 0
      },
      "text/plain": [
       "HBox(children=(HTML(value=''), FloatProgress(value=0.0, max=1000.0), HTML(value='')))"
      ]
     },
     "metadata": {},
     "output_type": "display_data"
    },
    {
     "name": "stdout",
     "output_type": "stream",
     "text": [
      "\n",
      "predicted states:\n",
      "[1 1 2 0 0 2 1 2 0 1 0 1 2 2 2 2 1 1 1 1 0 0 2 1 2 2 3 1 1 3 0 3 3 0 0 1 2\n",
      " 0 3 2 2 2 2 0 2 1 0 2 3 0 1 3 1 0 1 1 2 3 3 1 3 2 2 1 1 2 0 3 1 1 0 0 2 1\n",
      " 0 3 3 3 2 3 1 3 3 0 2 3 1 3 2 1 1 0 1 0 1 3 0 3 3 1 2 3 1 1 1 1 3 3 2 2 1\n",
      " 1 1 1 2 1 1 3 0 0 0 2 2 2 3 3 0 2 1 3 0 3 2 3 2 2 0 1 2 2 3 1 3 2 2 0 0 0\n",
      " 1 2 3 2 0 3 0 2 2 1 0 3 0 1 2 3 3 2 2 2 3 2 1 1 2 0 2 2 2 3 3 2 3 1 0 3 0\n",
      " 0 3 3 1 1 2 0 1 0 2 2 2 2 0 3 0]\n",
      "N = 18 : err_inf = 0.915241, err_2 = 2.872617, err_fro = 4.324601, err_mse = 0.047059\n",
      "-----------------------------\n",
      "N=20, STEPS: 1000 \n",
      "restart  1  /  3\n"
     ]
    },
    {
     "data": {
      "application/vnd.jupyter.widget-view+json": {
       "model_id": "e58e9eaee4a4425fb5999b024c1ca801",
       "version_major": 2,
       "version_minor": 0
      },
      "text/plain": [
       "HBox(children=(HTML(value=''), FloatProgress(value=0.0, max=1000.0), HTML(value='')))"
      ]
     },
     "metadata": {},
     "output_type": "display_data"
    },
    {
     "name": "stdout",
     "output_type": "stream",
     "text": [
      "\n",
      "restart  2  /  3\n"
     ]
    },
    {
     "data": {
      "application/vnd.jupyter.widget-view+json": {
       "model_id": "f06895c8c93d455a985f83949a87acb6",
       "version_major": 2,
       "version_minor": 0
      },
      "text/plain": [
       "HBox(children=(HTML(value=''), FloatProgress(value=0.0, max=1000.0), HTML(value='')))"
      ]
     },
     "metadata": {},
     "output_type": "display_data"
    },
    {
     "name": "stdout",
     "output_type": "stream",
     "text": [
      "\n",
      "restart  3  /  3\n"
     ]
    },
    {
     "data": {
      "application/vnd.jupyter.widget-view+json": {
       "model_id": "9f894852575c42a7a011cf1af692fa25",
       "version_major": 2,
       "version_minor": 0
      },
      "text/plain": [
       "HBox(children=(HTML(value=''), FloatProgress(value=0.0, max=1000.0), HTML(value='')))"
      ]
     },
     "metadata": {},
     "output_type": "display_data"
    },
    {
     "name": "stdout",
     "output_type": "stream",
     "text": [
      "\n",
      "predicted states:\n",
      "[2 0 1 1 1 0 3 2 0 2 0 0 3 2 0 3 0 3 1 2 1 2 1 1 2 2 1 1 2 2 1 3 0 3 3 2 3\n",
      " 1 2 1 3 2 0 1 2 0 1 2 0 1 2 3 2 1 0 3 3 0 2 2 0 3 3 0 2 3 1 3 1 2 2 0 2 1\n",
      " 3 3 2 3 3 3 2 1 0 0 0 0 2 0 2 2 3 3 2 1 0 1 3 2 0 1 3 3 3 2 3 1 0 3 2 1 3\n",
      " 3 2 0 3 0 1 3 1 1 2 3 1 0 3 3 1 2 3 0 3 1 0 1 3 0 0 1 2 1 3 3 3 3 0 3 3 1\n",
      " 2 3 3 2 2 0 3 1 3 0 2 2 3 2 1 2 1 2 2 1 1 0 2 3 3 2 2 2 2 2 1 2 2 1 1 2 0\n",
      " 1 2 1 1 0 2 1 1 3 0 1 2 3 0 3 1]\n",
      "N = 20 : err_inf = 0.844948, err_2 = 2.853636, err_fro = 4.773794, err_mse = 0.054623\n",
      "restart  1  /  3\n"
     ]
    },
    {
     "data": {
      "application/vnd.jupyter.widget-view+json": {
       "model_id": "db33b29dff0e43b8a62c533ea0ff2f2e",
       "version_major": 2,
       "version_minor": 0
      },
      "text/plain": [
       "HBox(children=(HTML(value=''), FloatProgress(value=0.0, max=1000.0), HTML(value='')))"
      ]
     },
     "metadata": {},
     "output_type": "display_data"
    },
    {
     "name": "stdout",
     "output_type": "stream",
     "text": [
      "\n",
      "restart  2  /  3\n"
     ]
    },
    {
     "data": {
      "application/vnd.jupyter.widget-view+json": {
       "model_id": "27452e9564ef43838a42dffd813b17d5",
       "version_major": 2,
       "version_minor": 0
      },
      "text/plain": [
       "HBox(children=(HTML(value=''), FloatProgress(value=0.0, max=1000.0), HTML(value='')))"
      ]
     },
     "metadata": {},
     "output_type": "display_data"
    },
    {
     "name": "stdout",
     "output_type": "stream",
     "text": [
      "\n",
      "restart  3  /  3\n"
     ]
    },
    {
     "data": {
      "application/vnd.jupyter.widget-view+json": {
       "model_id": "5ea6a4531704499d8015ae01c46ab992",
       "version_major": 2,
       "version_minor": 0
      },
      "text/plain": [
       "HBox(children=(HTML(value=''), FloatProgress(value=0.0, max=1000.0), HTML(value='')))"
      ]
     },
     "metadata": {},
     "output_type": "display_data"
    },
    {
     "name": "stdout",
     "output_type": "stream",
     "text": [
      "\n",
      "predicted states:\n",
      "[0 3 0 3 2 0 2 0 1 0 1 2 0 3 2 2 2 2 2 2 3 1 2 0 3 2 3 3 2 0 3 2 1 3 2 0 1\n",
      " 2 0 3 3 1 1 2 1 0 3 1 2 2 2 3 3 3 2 2 1 3 1 0 3 0 1 1 0 3 0 0 3 2 2 3 3 3\n",
      " 2 1 3 3 3 2 2 3 1 3 2 0 3 1 0 0 1 3 3 1 1 0 3 2 3 2 0 1 2 1 2 0 0 0 1 1 2\n",
      " 2 0 0 1 1 2 3 3 1 0 3 0 0 3 1 3 2 2 3 0 0 2 2 0 1 2 1 3 0 1 0 1 2 2 1 0 0\n",
      " 3 3 0 3 2 1 3 1 0 1 2 3 0 0 3 2 0 1 0 3 0 2 1 0 3 3 3 1 3 1 3 3 3 1 0 3 2\n",
      " 0 2 2 0 1 2 0 0 3 0 3 3 2 3 1 2]\n",
      "N = 20 : err_inf = 0.794804, err_2 = 2.996576, err_fro = 4.684119, err_mse = 0.052172\n",
      "restart  1  /  3\n"
     ]
    },
    {
     "data": {
      "application/vnd.jupyter.widget-view+json": {
       "model_id": "e8d88212f3f145b78750310e55c62608",
       "version_major": 2,
       "version_minor": 0
      },
      "text/plain": [
       "HBox(children=(HTML(value=''), FloatProgress(value=0.0, max=1000.0), HTML(value='')))"
      ]
     },
     "metadata": {},
     "output_type": "display_data"
    },
    {
     "name": "stdout",
     "output_type": "stream",
     "text": [
      "\n",
      "restart  2  /  3\n"
     ]
    },
    {
     "data": {
      "application/vnd.jupyter.widget-view+json": {
       "model_id": "5bda5159a7914349b715030915834b92",
       "version_major": 2,
       "version_minor": 0
      },
      "text/plain": [
       "HBox(children=(HTML(value=''), FloatProgress(value=0.0, max=1000.0), HTML(value='')))"
      ]
     },
     "metadata": {},
     "output_type": "display_data"
    },
    {
     "name": "stdout",
     "output_type": "stream",
     "text": [
      "\n",
      "restart  3  /  3\n"
     ]
    },
    {
     "data": {
      "application/vnd.jupyter.widget-view+json": {
       "model_id": "d0720807ea9e47f296db7492642cb610",
       "version_major": 2,
       "version_minor": 0
      },
      "text/plain": [
       "HBox(children=(HTML(value=''), FloatProgress(value=0.0, max=1000.0), HTML(value='')))"
      ]
     },
     "metadata": {},
     "output_type": "display_data"
    },
    {
     "name": "stdout",
     "output_type": "stream",
     "text": [
      "\n",
      "predicted states:\n",
      "[3 3 0 1 3 0 0 2 3 2 0 0 2 0 0 3 0 0 1 3 1 1 2 2 3 3 2 0 3 3 3 3 1 2 0 3 3\n",
      " 1 1 3 0 1 0 1 0 2 0 1 3 2 2 1 0 3 3 2 2 2 1 1 0 0 3 1 2 0 0 0 2 2 1 2 0 2\n",
      " 2 3 1 1 1 0 2 3 0 3 2 2 1 0 2 2 3 0 2 3 2 1 0 2 1 1 1 1 2 0 0 2 0 1 0 0 2\n",
      " 3 1 2 0 1 1 1 0 0 0 2 1 2 1 3 3 3 2 2 0 2 2 3 2 0 2 2 1 3 2 0 0 3 3 2 2 0\n",
      " 1 0 3 3 3 3 0 2 3 2 2 3 0 1 2 2 2 0 3 2 3 2 0 3 2 3 2 0 0 0 3 3 3 2 0 2 3\n",
      " 2 1 3 2 2 1 0 1 3 3 2 3 1 2 1 1]\n",
      "N = 20 : err_inf = 0.717674, err_2 = 2.490861, err_fro = 4.493759, err_mse = 0.049774\n",
      "-----------------------------\n",
      "N=30, STEPS: 1000 \n",
      "restart  1  /  3\n"
     ]
    },
    {
     "data": {
      "application/vnd.jupyter.widget-view+json": {
       "model_id": "73bca2f9382e47a7a80088e8addcd34e",
       "version_major": 2,
       "version_minor": 0
      },
      "text/plain": [
       "HBox(children=(HTML(value=''), FloatProgress(value=0.0, max=1000.0), HTML(value='')))"
      ]
     },
     "metadata": {},
     "output_type": "display_data"
    },
    {
     "name": "stdout",
     "output_type": "stream",
     "text": [
      "\n",
      "predicted states:\n",
      "[0 2 0 2 0 2 2 1 3 1 1 0 1 2 3 1 0 2 2 3 3 0 3 1 1 0 3 0 0 2 0 0 0 1 0 0 3\n",
      " 0 2 1 2 3 0 3 3 3 0 2 2 3 0 2 3 1 1 3 1 3 3 0 1 3 1 0 2 3 0 3 3 0 0 2 1 1\n",
      " 2 0 0 3 2 3 3 0 2 0 0 3 3 3 3 3 1 0 2 1 3 3 3 2 3 0 0 2 3 3 2 1 1 0 3 1 1\n",
      " 3 2 3 3 1 0 2 0 1 0 0 1 0 3 1 3 2 1 2 1 1 3 3 1 0 2 0 0 1 2 3 1 2 1 3 3 2\n",
      " 0 2 2 0 2 1 1 0 0 3 2 0 2 1 3 2 1 3 1 2 1 0 0 0 1 1 1 3 3 3 3 3 1 0 2 2 1\n",
      " 0 1 1 2 0 1 2 2 2 0 2 2 3 3 1 1]\n",
      "N = 50 : err_inf = 2.968470, err_2 = 19.123944, err_fro = 29.101795, err_mse = 1.026776\n",
      "restart  1  /  3\n"
     ]
    },
    {
     "data": {
      "application/vnd.jupyter.widget-view+json": {
       "model_id": "77a570c9ce2b4cb5b3b6c58ac10cb17d",
       "version_major": 2,
       "version_minor": 0
      },
      "text/plain": [
       "HBox(children=(HTML(value=''), FloatProgress(value=0.0, max=1000.0), HTML(value='')))"
      ]
     },
     "metadata": {},
     "output_type": "display_data"
    },
    {
     "name": "stdout",
     "output_type": "stream",
     "text": [
      "\n",
      "restart  2  /  3\n"
     ]
    },
    {
     "data": {
      "application/vnd.jupyter.widget-view+json": {
       "model_id": "4c3cd666157b412185c9a7106e040fe4",
       "version_major": 2,
       "version_minor": 0
      },
      "text/plain": [
       "HBox(children=(HTML(value=''), FloatProgress(value=0.0, max=1000.0), HTML(value='')))"
      ]
     },
     "metadata": {},
     "output_type": "display_data"
    },
    {
     "name": "stdout",
     "output_type": "stream",
     "text": [
      "\n",
      "restart  3  /  3\n"
     ]
    },
    {
     "data": {
      "application/vnd.jupyter.widget-view+json": {
       "model_id": "b339001129834f94ac704b40202c3fa1",
       "version_major": 2,
       "version_minor": 0
      },
      "text/plain": [
       "HBox(children=(HTML(value=''), FloatProgress(value=0.0, max=1000.0), HTML(value='')))"
      ]
     },
     "metadata": {},
     "output_type": "display_data"
    },
    {
     "name": "stdout",
     "output_type": "stream",
     "text": [
      "\n",
      "predicted states:\n",
      "[2 1 1 2 0 1 2 3 3 3 3 3 1 3 2 3 1 2 2 1 3 3 1 2 2 1 2 2 2 0 0 3 0 2 2 1 2\n",
      " 0 0 3 3 3 2 1 2 3 1 2 1 3 0 1 2 3 2 1 0 0 2 3 1 3 2 2 1 2 3 3 2 3 1 0 2 1\n",
      " 2 0 0 0 2 0 0 2 2 2 0 1 0 0 1 1 1 3 2 0 1 1 0 1 0 0 3 1 1 3 3 1 3 0 3 2 1\n",
      " 1 1 0 0 2 3 1 2 1 1 1 2 3 0 0 1 2 2 3 1 1 0 0 0 3 3 3 2 3 1 3 2 3 2 3 0 1\n",
      " 3 2 2 0 0 0 0 0 3 3 0 3 3 0 0 0 2 1 3 1 1 3 1 2 1 3 2 1 3 3 0 2 1 1 2 1 3\n",
      " 0 2 3 0 1 3 3 3 3 0 0 0 3 1 0 0]\n",
      "N = 50 : err_inf = 9.696988, err_2 = 66.542701, err_fro = 73.990241, err_mse = 7.015966\n",
      "restart  1  /  3\n"
     ]
    },
    {
     "data": {
      "application/vnd.jupyter.widget-view+json": {
       "model_id": "c13a656f5f54468596c842726cdeecb8",
       "version_major": 2,
       "version_minor": 0
      },
      "text/plain": [
       "HBox(children=(HTML(value=''), FloatProgress(value=0.0, max=1000.0), HTML(value='')))"
      ]
     },
     "metadata": {},
     "output_type": "display_data"
    },
    {
     "name": "stdout",
     "output_type": "stream",
     "text": [
      "\n",
      "restart  2  /  3\n"
     ]
    },
    {
     "data": {
      "application/vnd.jupyter.widget-view+json": {
       "model_id": "086735f458d3459da712128f20cdbe45",
       "version_major": 2,
       "version_minor": 0
      },
      "text/plain": [
       "HBox(children=(HTML(value=''), FloatProgress(value=0.0, max=1000.0), HTML(value='')))"
      ]
     },
     "metadata": {},
     "output_type": "display_data"
    },
    {
     "name": "stdout",
     "output_type": "stream",
     "text": [
      "\n",
      "restart  3  /  3\n"
     ]
    },
    {
     "data": {
      "application/vnd.jupyter.widget-view+json": {
       "model_id": "559b3d721d95471b916f218d3fe2570e",
       "version_major": 2,
       "version_minor": 0
      },
      "text/plain": [
       "HBox(children=(HTML(value=''), FloatProgress(value=0.0, max=1000.0), HTML(value='')))"
      ]
     },
     "metadata": {},
     "output_type": "display_data"
    },
    {
     "name": "stdout",
     "output_type": "stream",
     "text": [
      "\n",
      "predicted states:\n",
      "[2 1 0 0 2 3 0 1 2 3 3 3 3 0 2 1 3 1 1 1 0 0 0 0 2 2 0 0 2 1 1 0 2 1 0 0 2\n",
      " 1 3 2 0 3 2 1 1 3 0 0 0 2 0 0 0 2 1 2 2 3 0 2 1 0 0 3 0 3 2 0 3 1 0 2 3 1\n",
      " 0 3 3 1 1 2 1 2 2 1 3 1 2 0 3 2 3 2 3 0 1 1 0 2 3 3 1 2 0 0 1 2 3 0 0 0 0\n",
      " 1 1 2 2 0 2 3 1 1 2 1 3 3 0 1 0 0 2 1 2 1 3 3 3 3 3 3 2 2 3 1 3 2 1 1 3 3\n",
      " 3 1 0 1 2 3 2 2 2 1 0 1 1 0 3 0 1 0 2 3 2 2 0 3 0 0 2 2 0 0 1 1 0 0 1 3 0\n",
      " 1 0 3 3 3 3 2 2 2 3 3 0 2 1 3 1]\n",
      "N = 50 : err_inf = 2.676320, err_2 = 16.685327, err_fro = 26.799433, err_mse = 0.889505\n",
      "-----------------------------\n",
      "N=80, STEPS: 1000 \n",
      "restart  1  /  3\n"
     ]
    },
    {
     "data": {
      "application/vnd.jupyter.widget-view+json": {
       "model_id": "ba75ec89f2b748b2b2d4361103a75b36",
       "version_major": 2,
       "version_minor": 0
      },
      "text/plain": [
       "HBox(children=(HTML(value=''), FloatProgress(value=0.0, max=1000.0), HTML(value='')))"
      ]
     },
     "metadata": {},
     "output_type": "display_data"
    },
    {
     "name": "stderr",
     "output_type": "stream",
     "text": [
      "IOPub message rate exceeded.\n",
      "The notebook server will temporarily stop sending output\n",
      "to the client in order to avoid crashing it.\n",
      "To change this limit, set the config variable\n",
      "`--NotebookApp.iopub_msg_rate_limit`.\n",
      "\n",
      "Current values:\n",
      "NotebookApp.iopub_msg_rate_limit=1000.0 (msgs/sec)\n",
      "NotebookApp.rate_limit_window=3.0 (secs)\n",
      "\n"
     ]
    },
    {
     "name": "stdout",
     "output_type": "stream",
     "text": [
      "\n",
      "restart  3  /  3\n"
     ]
    },
    {
     "data": {
      "application/vnd.jupyter.widget-view+json": {
       "model_id": "776ce9bd10cd4b75bddf39eb083088ce",
       "version_major": 2,
       "version_minor": 0
      },
      "text/plain": [
       "HBox(children=(HTML(value=''), FloatProgress(value=0.0, max=1000.0), HTML(value='')))"
      ]
     },
     "metadata": {},
     "output_type": "display_data"
    },
    {
     "name": "stdout",
     "output_type": "stream",
     "text": [
      "\n",
      "predicted states:\n",
      "[0 0 3 3 3 1 0 2 3 2 2 1 2 1 0 2 0 0 2 2 0 1 3 0 1 0 3 2 2 2 0 1 0 1 1 1 3\n",
      " 1 1 3 2 2 0 2 1 0 3 2 1 0 0 1 0 1 3 2 2 1 3 2 1 2 2 1 1 1 0 0 2 2 2 3 1 3\n",
      " 1 2 2 1 1 1 3 0 2 0 2 1 2 3 3 2 0 0 2 0 3 0 1 1 0 3 2 2 2 1 0 2 0 1 1 1 2\n",
      " 2 3 1 1 0 2 1 1 1 1 0 2 1 3 3 2 3 0 2 1 3 0 0 0 0 3 1 2 2 3 3 1 3 1 2 3 0\n",
      " 1 3 2 1 3 3 3 1 2 3 3 2 3 1 3 1 2 1 3 0 3 1 0 1 2 1 2 1 0 0 0 0 0 2 3 1 2\n",
      " 2 1 1 1 1 1 3 2 1 0 1 1 2 2 1 1]\n",
      "N = 100 : err_inf = 0.770405, err_2 = 4.238526, err_fro = 12.927433, err_mse = 0.282129\n",
      "restart  1  /  3\n"
     ]
    },
    {
     "data": {
      "application/vnd.jupyter.widget-view+json": {
       "model_id": "7551badde8c04ed795da1b1cbe3801b7",
       "version_major": 2,
       "version_minor": 0
      },
      "text/plain": [
       "HBox(children=(HTML(value=''), FloatProgress(value=0.0, max=1000.0), HTML(value='')))"
      ]
     },
     "metadata": {},
     "output_type": "display_data"
    },
    {
     "name": "stderr",
     "output_type": "stream",
     "text": [
      "IOPub message rate exceeded.\n",
      "The notebook server will temporarily stop sending output\n",
      "to the client in order to avoid crashing it.\n",
      "To change this limit, set the config variable\n",
      "`--NotebookApp.iopub_msg_rate_limit`.\n",
      "\n",
      "Current values:\n",
      "NotebookApp.iopub_msg_rate_limit=1000.0 (msgs/sec)\n",
      "NotebookApp.rate_limit_window=3.0 (secs)\n",
      "\n"
     ]
    },
    {
     "name": "stdout",
     "output_type": "stream",
     "text": [
      "\n",
      "restart  3  /  3\n"
     ]
    },
    {
     "data": {
      "application/vnd.jupyter.widget-view+json": {
       "model_id": "39cce6aabb464aeaa18025572a20b80a",
       "version_major": 2,
       "version_minor": 0
      },
      "text/plain": [
       "HBox(children=(HTML(value=''), FloatProgress(value=0.0, max=1000.0), HTML(value='')))"
      ]
     },
     "metadata": {},
     "output_type": "display_data"
    },
    {
     "name": "stderr",
     "output_type": "stream",
     "text": [
      "IOPub message rate exceeded.\n",
      "The notebook server will temporarily stop sending output\n",
      "to the client in order to avoid crashing it.\n",
      "To change this limit, set the config variable\n",
      "`--NotebookApp.iopub_msg_rate_limit`.\n",
      "\n",
      "Current values:\n",
      "NotebookApp.iopub_msg_rate_limit=1000.0 (msgs/sec)\n",
      "NotebookApp.rate_limit_window=3.0 (secs)\n",
      "\n"
     ]
    },
    {
     "name": "stdout",
     "output_type": "stream",
     "text": [
      "\n",
      "restart  3  /  3\n"
     ]
    },
    {
     "data": {
      "application/vnd.jupyter.widget-view+json": {
       "model_id": "c509266a6e3344d688ae75584ff8dc8c",
       "version_major": 2,
       "version_minor": 0
      },
      "text/plain": [
       "HBox(children=(HTML(value=''), FloatProgress(value=0.0, max=1000.0), HTML(value='')))"
      ]
     },
     "metadata": {},
     "output_type": "display_data"
    },
    {
     "name": "stderr",
     "output_type": "stream",
     "text": [
      "IOPub message rate exceeded.\n",
      "The notebook server will temporarily stop sending output\n",
      "to the client in order to avoid crashing it.\n",
      "To change this limit, set the config variable\n",
      "`--NotebookApp.iopub_msg_rate_limit`.\n",
      "\n",
      "Current values:\n",
      "NotebookApp.iopub_msg_rate_limit=1000.0 (msgs/sec)\n",
      "NotebookApp.rate_limit_window=3.0 (secs)\n",
      "\n"
     ]
    },
    {
     "name": "stdout",
     "output_type": "stream",
     "text": [
      "\n",
      "restart  2  /  3\n"
     ]
    },
    {
     "data": {
      "application/vnd.jupyter.widget-view+json": {
       "model_id": "b022afcf13044e56bd6f4dfe5469333a",
       "version_major": 2,
       "version_minor": 0
      },
      "text/plain": [
       "HBox(children=(HTML(value=''), FloatProgress(value=0.0, max=1000.0), HTML(value='')))"
      ]
     },
     "metadata": {},
     "output_type": "display_data"
    },
    {
     "name": "stderr",
     "output_type": "stream",
     "text": [
      "IOPub message rate exceeded.\n",
      "The notebook server will temporarily stop sending output\n",
      "to the client in order to avoid crashing it.\n",
      "To change this limit, set the config variable\n",
      "`--NotebookApp.iopub_msg_rate_limit`.\n",
      "\n",
      "Current values:\n",
      "NotebookApp.iopub_msg_rate_limit=1000.0 (msgs/sec)\n",
      "NotebookApp.rate_limit_window=3.0 (secs)\n",
      "\n"
     ]
    }
   ],
   "source": [
    "for N in N_array:\n",
    "    print(\"-----------------------------\\nN=%d, STEPS: %d \" % (N, num_iters))\n",
    "    for rep in range(3):\n",
    "        # load data\n",
    "        data = scipy.io.loadmat(\"../data/test_data_N_%d_M_201_sigma_0.500000_rep_%d.mat\" % (N, rep + 1))\n",
    "        X = data['X']\n",
    "        A1 = data['A1']\n",
    "        A2 = data['A2']\n",
    "        \n",
    "        # fit model\n",
    "        err_inf, err_2, err_fro, err_mse, _ = \\\n",
    "            fit_arhmm_and_return_errors(X.T, A1, A2, Kmax=Kmax, num_restarts=num_restarts, num_iters=num_iters, rank=rank)\n",
    "        \n",
    "        # print some output\n",
    "        print(\"N = %d : err_inf = %f, err_2 = %f, err_fro = %f, err_mse = %f\" % \\\n",
    "               (N, err_inf, err_2, err_fro, err_mse))\n",
    "        new_row = dict(zip(error_table.columns, \n",
    "                           [N, np.nan, model, err_inf, err_2, err_fro, err_mse, np.nan]))\n",
    "        error_table = error_table.append(new_row, ignore_index=True)\n",
    "\n",
    "# write output\n",
    "error_table.to_csv(output_file, header=True, index=False)"
   ]
  },
  {
   "cell_type": "code",
   "execution_count": null,
   "metadata": {},
   "outputs": [],
   "source": [
    "data = error_table\n",
    "#plt.loglog(data['N'], data['err_2'])\n",
    "fig, ax = plt.subplots()\n",
    "\n",
    "for key, grp in data.groupby(['model']):\n",
    "    grp = grp.groupby(['N']).mean()\n",
    "#     if key == 1:\n",
    "#         keystr = 'indep(N)'\n",
    "#     elif key == 2:\n",
    "#         keystr = 'indep(4)'\n",
    "#     elif key == 3:\n",
    "#         keystr = 'TVART(4)'\n",
    "#     elif key == 4:\n",
    "#         keystr = 'SLDS(4)'\n",
    "#     elif key == 5:\n",
    "#         keystr = 'SLDS(6)'\n",
    "#     elif key == 6:\n",
    "#         keystr = 'SLDS(2)'\n",
    "    keystr = key\n",
    "    ax = grp.plot(ax=ax, kind='line', y='err_2', label=keystr, logx=True, logy=True)\n",
    "    plt.ylabel('2-norm error')\n",
    "\n",
    "plt.legend(loc='best')\n",
    "#plt.ylim([1e-2, 1e-1])\n",
    "plt.show()\n",
    "\n",
    "#data.plot.line(x='N', y='err_inf', logx=True, logy=True)"
   ]
  },
  {
   "cell_type": "code",
   "execution_count": null,
   "metadata": {},
   "outputs": [],
   "source": []
  },
  {
   "cell_type": "code",
   "execution_count": null,
   "metadata": {},
   "outputs": [],
   "source": []
  }
 ],
 "metadata": {
  "kernelspec": {
   "display_name": "Python 3",
   "language": "python",
   "name": "python3"
  },
  "language_info": {
   "codemirror_mode": {
    "name": "ipython",
    "version": 3
   },
   "file_extension": ".py",
   "mimetype": "text/x-python",
   "name": "python",
   "nbconvert_exporter": "python",
   "pygments_lexer": "ipython3",
   "version": "3.8.5"
  }
 },
 "nbformat": 4,
 "nbformat_minor": 2
}
